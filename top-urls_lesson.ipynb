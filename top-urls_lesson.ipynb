{
 "cells": [
  {
   "cell_type": "code",
   "execution_count": 1,
   "metadata": {},
   "outputs": [],
   "source": [
    "from pyspark.sql import SparkSession\n",
    "\n",
    "import pyspark.sql.functions as func\n"
   ]
  },
  {
   "cell_type": "code",
   "execution_count": 2,
   "metadata": {},
   "outputs": [],
   "source": [
    "# 스파크 세션 생성 (Windows에서만 필요한 설정 부분입니다!)\n",
    "spark = SparkSession.builder.appName(\"StructuredStreaming\").getOrCreate()\n"
   ]
  },
  {
   "cell_type": "code",
   "execution_count": 5,
   "metadata": {},
   "outputs": [
    {
     "data": {
      "text/plain": [
       "[Row(value='66.249.75.159 - - [29/Nov/2015:03:50:05 +0000] \"GET /robots.txt HTTP/1.1\" 200 55 \"-\" \"Mozilla/5.0 (compatible; Googlebot/2.1; +http://www.google.com/bot.html)\"'),\n",
       " Row(value='66.249.75.168 - - [29/Nov/2015:03:50:06 +0000] \"GET /blog/ HTTP/1.1\" 200 8083 \"-\" \"Mozilla/5.0 (compatible; Googlebot/2.1; +http://www.google.com/bot.html)\"'),\n",
       " Row(value='185.71.216.232 - - [29/Nov/2015:03:53:15 +0000] \"POST /wp-login.php HTTP/1.1\" 200 1691 \"http://nohatenews.com/wp-login.php\" \"Mozilla/5.0 (Windows NT 6.1; WOW64; rv:40.0) Gecko/20100101 Firefox/40.0\"'),\n",
       " Row(value='54.165.199.171 - - [29/Nov/2015:04:32:27 +0000] \"GET /sitemap_index.xml HTTP/1.0\" 200 592 \"-\" \"W3 Total Cache/0.9.4.1\"'),\n",
       " Row(value='54.165.199.171 - - [29/Nov/2015:04:32:27 +0000] \"GET /post-sitemap.xml HTTP/1.0\" 200 2502 \"-\" \"W3 Total Cache/0.9.4.1\"'),\n",
       " Row(value='54.165.199.171 - - [29/Nov/2015:04:32:27 +0000] \"GET /page-sitemap.xml HTTP/1.0\" 200 11462 \"-\" \"W3 Total Cache/0.9.4.1\"'),\n",
       " Row(value='54.165.199.171 - - [29/Nov/2015:04:32:27 +0000] \"GET /category-sitemap.xml HTTP/1.0\" 200 585 \"-\" \"W3 Total Cache/0.9.4.1\"'),\n",
       " Row(value='54.165.199.171 - - [29/Nov/2015:04:32:27 +0000] \"GET /blog/ HTTP/1.0\" 200 31746 \"-\" \"-\"'),\n",
       " Row(value='54.165.199.171 - - [29/Nov/2015:04:32:27 +0000] \"GET /orlando-sports/ HTTP/1.0\" 200 35510 \"-\" \"-\"'),\n",
       " Row(value='54.165.199.171 - - [29/Nov/2015:04:32:37 +0000] \"GET /about/ HTTP/1.0\" 200 25121 \"-\" \"-\"')]"
      ]
     },
     "execution_count": 5,
     "metadata": {},
     "output_type": "execute_result"
    }
   ],
   "source": [
    "# logs 디렉토리를 모니터링하여 새로운 로그 데이터를 읽어와서 accessLines 변수에 저장한다.\n",
    "accessLines = spark.read.text(\"logs\")\n",
    "accessLines.collect()[:10]"
   ]
  },
  {
   "cell_type": "code",
   "execution_count": 8,
   "metadata": {},
   "outputs": [
    {
     "name": "stdout",
     "output_type": "stream",
     "text": [
      "DataFrame[host: string, timestamp: string, method: string, endpoint: string, protocol: string, status: int, content_size: int]\n"
     ]
    },
    {
     "data": {
      "text/plain": [
       "[Row(host='66.249.75.159', timestamp='', method='GET', endpoint='/robots.txt', protocol='HTTP/1.1', status=200, content_size=None),\n",
       " Row(host='66.249.75.168', timestamp='', method='GET', endpoint='/blog/', protocol='HTTP/1.1', status=200, content_size=None),\n",
       " Row(host='185.71.216.232', timestamp='', method='POST', endpoint='/wp-login.php', protocol='HTTP/1.1', status=200, content_size=None),\n",
       " Row(host='54.165.199.171', timestamp='', method='GET', endpoint='/sitemap_index.xml', protocol='HTTP/1.0', status=200, content_size=None),\n",
       " Row(host='54.165.199.171', timestamp='', method='GET', endpoint='/post-sitemap.xml', protocol='HTTP/1.0', status=200, content_size=None)]"
      ]
     },
     "execution_count": 8,
     "metadata": {},
     "output_type": "execute_result"
    }
   ],
   "source": [
    "\n",
    "\n",
    "# 정규 표현식을 사용하여 공통 로그 형식을 DataFrame으로 파싱합니다.\n",
    "contentSizeExp = r'\\s(\\d+)$'  # content size를 추출하기 위한 정규 표현식\n",
    "statusExp = r'\\s(\\d{3})\\s'  # 상태 코드를 추출하기 위한 정규 표현식\n",
    "generalExp = r'\\\"(\\S+)\\s(\\S+)\\s*(\\S*)\\\"'  # 메소드, 엔드포인트, 프로토콜을 추출하기 위한 정규 표현식\n",
    "timeExp = r'\\[(\\d{2}/\\w{3}/\\d{4}:\\d{2}:\\d{2}:\\d{2} -\\d{4})]'  # 타임스탬프를 추출하기 위한 정규 표현식\n",
    "hostExp = r'(^\\S+\\.[\\S+\\.]+\\S+)\\s'  # 호스트를 추출하기 위한 정규 표현식\n",
    "\n",
    "logsDF = accessLines.select(func.regexp_extract('value', hostExp, 1).alias('host'),  # 호스트 추출\n",
    "                         func.regexp_extract('value', timeExp, 1).alias('timestamp'),  # 타임스탬프 추출\n",
    "                         func.regexp_extract('value', generalExp, 1).alias('method'),  # 메소드 추출\n",
    "                         func.regexp_extract('value', generalExp, 2).alias('endpoint'),  # 엔드포인트 추출\n",
    "                         func.regexp_extract('value', generalExp, 3).alias('protocol'),  # 프로토콜 추출\n",
    "                         func.regexp_extract('value', statusExp, 1).cast('integer').alias('status'),  # 상태 코드 추출\n",
    "                         func.regexp_extract('value', contentSizeExp, 1).cast('integer').alias('content_size'))  # content size 추출\n",
    "print(logsDF)\n",
    "logsDF.collect()[:5]"
   ]
  },
  {
   "cell_type": "code",
   "execution_count": 9,
   "metadata": {},
   "outputs": [
    {
     "data": {
      "text/plain": [
       "[Row(host='66.249.75.159', timestamp='', method='GET', endpoint='/robots.txt', protocol='HTTP/1.1', status=200, content_size=None, eventTime=datetime.datetime(2023, 12, 3, 17, 9, 14, 456305)),\n",
       " Row(host='66.249.75.168', timestamp='', method='GET', endpoint='/blog/', protocol='HTTP/1.1', status=200, content_size=None, eventTime=datetime.datetime(2023, 12, 3, 17, 9, 14, 456305)),\n",
       " Row(host='185.71.216.232', timestamp='', method='POST', endpoint='/wp-login.php', protocol='HTTP/1.1', status=200, content_size=None, eventTime=datetime.datetime(2023, 12, 3, 17, 9, 14, 456305)),\n",
       " Row(host='54.165.199.171', timestamp='', method='GET', endpoint='/sitemap_index.xml', protocol='HTTP/1.0', status=200, content_size=None, eventTime=datetime.datetime(2023, 12, 3, 17, 9, 14, 456305)),\n",
       " Row(host='54.165.199.171', timestamp='', method='GET', endpoint='/post-sitemap.xml', protocol='HTTP/1.0', status=200, content_size=None, eventTime=datetime.datetime(2023, 12, 3, 17, 9, 14, 456305))]"
      ]
     },
     "execution_count": 9,
     "metadata": {},
     "output_type": "execute_result"
    }
   ],
   "source": [
    "logsDF2 = logsDF.withColumn(\"eventTime\", func.current_timestamp())  # 현재 타임스탬프를 eventTime 컬럼으로 추가\n",
    "logsDF2.collect()[:5]"
   ]
  },
  {
   "cell_type": "code",
   "execution_count": 11,
   "metadata": {},
   "outputs": [
    {
     "data": {
      "text/plain": [
       "[Row(window=Row(start=datetime.datetime(2023, 12, 3, 17, 10, 40), end=datetime.datetime(2023, 12, 3, 17, 11, 10)), endpoint='/?p=13636', count=1),\n",
       " Row(window=Row(start=datetime.datetime(2023, 12, 3, 17, 10, 30), end=datetime.datetime(2023, 12, 3, 17, 11)), endpoint='/technology/', count=68),\n",
       " Row(window=Row(start=datetime.datetime(2023, 12, 3, 17, 10, 30), end=datetime.datetime(2023, 12, 3, 17, 11)), endpoint='/feeds/tampa-bay-times-top-news/', count=1),\n",
       " Row(window=Row(start=datetime.datetime(2023, 12, 3, 17, 10, 40), end=datetime.datetime(2023, 12, 3, 17, 11, 10)), endpoint='/robots.txt', count=123),\n",
       " Row(window=Row(start=datetime.datetime(2023, 12, 3, 17, 10, 30), end=datetime.datetime(2023, 12, 3, 17, 11)), endpoint='/minneapolis-sports/', count=58)]"
      ]
     },
     "execution_count": 11,
     "metadata": {},
     "output_type": "execute_result"
    }
   ],
   "source": [
    "\n",
    "# Keep a running count of endpoints\n",
    "\n",
    "# 엔드포인트별로 실행 횟수를 계산합니다.\n",
    "# logsDF2 데이터프레임을 window 함수를 사용하여 \n",
    "# eventTime을 30초 간격으로 구분하고, window 간격을 10초\n",
    "# endpoint를 그룹화하여 count() 함수를 적용하여 endpointCounts 데이터프레임을 생성한다.\n",
    "endpointCounts = logsDF2.groupBy(func.window(func.col(\"eventTime\"), \\\n",
    "      \"30 seconds\", \"10 seconds\"), func.col(\"endpoint\")).count()  \n",
    "endpointCounts.collect()[:5]\n"
   ]
  },
  {
   "cell_type": "code",
   "execution_count": 13,
   "metadata": {},
   "outputs": [
    {
     "data": {
      "text/plain": [
       "[Row(window=Row(start=datetime.datetime(2023, 12, 3, 17, 15, 40), end=datetime.datetime(2023, 12, 3, 17, 16, 10)), endpoint='/xmlrpc.php', count=68494),\n",
       " Row(window=Row(start=datetime.datetime(2023, 12, 3, 17, 16), end=datetime.datetime(2023, 12, 3, 17, 16, 30)), endpoint='/xmlrpc.php', count=68494),\n",
       " Row(window=Row(start=datetime.datetime(2023, 12, 3, 17, 15, 50), end=datetime.datetime(2023, 12, 3, 17, 16, 20)), endpoint='/xmlrpc.php', count=68494),\n",
       " Row(window=Row(start=datetime.datetime(2023, 12, 3, 17, 16), end=datetime.datetime(2023, 12, 3, 17, 16, 30)), endpoint='/wp-login.php', count=1923),\n",
       " Row(window=Row(start=datetime.datetime(2023, 12, 3, 17, 15, 50), end=datetime.datetime(2023, 12, 3, 17, 16, 20)), endpoint='/wp-login.php', count=1923)]"
      ]
     },
     "execution_count": 13,
     "metadata": {},
     "output_type": "execute_result"
    }
   ],
   "source": [
    "\n",
    "sortedEndpointCounts = endpointCounts.orderBy(func.col(\"count\").desc())  # 실행 횟수를 기준으로 내림차순으로 정렬\n",
    "sortedEndpointCounts.collect()[:5]"
   ]
  },
  {
   "cell_type": "code",
   "execution_count": null,
   "metadata": {},
   "outputs": [],
   "source": [
    "\n",
    "# Display the stream to the console\n",
    "\n",
    "# 스트림을 콘솔에 출력합니다.\n",
    "query = sortedEndpointCounts.writeStream.outputMode(\"complete\").format(\"console\") \\\n",
    "      .queryName(\"counts\").start()\n",
    "\n",
    "# Wait until we terminate the scripts\n",
    "query.awaitTermination()  # 스크립트가 종료될 때까지 대기합니다.\n",
    "\n",
    "# Stop the session\n",
    "spark.stop()  # SparkSession을 종료합니다.\n"
   ]
  }
 ],
 "metadata": {
  "kernelspec": {
   "display_name": "edu_env_kernel",
   "language": "python",
   "name": "edu_env"
  },
  "language_info": {
   "codemirror_mode": {
    "name": "ipython",
    "version": 3
   },
   "file_extension": ".py",
   "mimetype": "text/x-python",
   "name": "python",
   "nbconvert_exporter": "python",
   "pygments_lexer": "ipython3",
   "version": "3.10.9"
  }
 },
 "nbformat": 4,
 "nbformat_minor": 2
}
